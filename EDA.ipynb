{
 "cells": [
  {
   "cell_type": "code",
   "execution_count": 5,
   "metadata": {},
   "outputs": [],
   "source": [
    "import h5py\n",
    "from pathlib import Path\n",
    "import os\n",
    "from utils.data_utils import load_dataset\n",
    "from utils.w4c_dataloader import RainData\n",
    "import pandas as pd\n",
    "from train import DataModule\n",
    "import numpy as np\n",
    "import matplotlib.pyplot as plt\n",
    "from tqdm import tqdm\n",
    "import matplotlib as mlb\n",
    "import matplotlib.dates as mdates\n",
    "from matplotlib.ticker import (MultipleLocator, FormatStrFormatter,\n",
    "                               AutoMinorLocator)\n",
    "import matplotlib.ticker as ticker\n",
    "from pathlib import Path\n",
    "Path(\"./outputs\").mkdir(parents=True, exist_ok=True)\n",
    "\n",
    "def get_ratios(df):\n",
    "    df[\"no_rain_ratio\"] = df.no_rain / df.total\n",
    "    df[\"rain_ratio\"] = df.rain / df.total\n",
    "    return df\n"
   ]
  },
  {
   "cell_type": "markdown",
   "metadata": {},
   "source": [
    "### timestamp and splits"
   ]
  },
  {
   "cell_type": "code",
   "execution_count": 22,
   "metadata": {},
   "outputs": [
    {
     "name": "stdout",
     "output_type": "stream",
     "text": [
      "(30720, 11) Index(['time', 'date_str', 'date', 'RATE', 'ACRR', 'DBZH', 'REFL-BT',\n",
      "       'all_vars', 'split', 'split_type', 'date_time_str'],\n",
      "      dtype='object') time                          000000\n",
      "date_str                    20190215\n",
      "date             2019-02-15 00:00:00\n",
      "RATE                               1\n",
      "ACRR                               1\n",
      "DBZH                               1\n",
      "REFL-BT                            1\n",
      "all_vars                           1\n",
      "split                       training\n",
      "split_type                         -\n",
      "date_time_str        20190215T000000\n",
      "Name: 0, dtype: object\n",
      "{'validation', 'heldout', 'training', 'test'}\n"
     ]
    },
    {
     "data": {
      "text/plain": [
       "(240, 11)"
      ]
     },
     "execution_count": 22,
     "metadata": {},
     "output_type": "execute_result"
    }
   ],
   "source": [
    "df = train_dataset.splits_df\n",
    "print(\"shape, columns, first element: \", df.shape, df.columns, df.iloc[0,:])\n",
    "print(set(df['split'].values))\n",
    "df_ = df[df['split'] == 'training']\n",
    "df_ = df_[df_[\"all_vars\"] == 1]\n",
    "df_.shape #20308 ==> (20308 - 32-4+1)* 3 = 60819\n",
    "\n",
    "df_ = df[df['split'] == 'validation']\n",
    "df_ = df_[df_[\"all_vars\"] == 1]\n",
    "df_.shape #2160 ==> 2160/36*3 = 180\n",
    "\n",
    "df_ = df[df['split_type'] == 'test_in']\n",
    "df_ = df_[df_[\"all_vars\"] == 1]\n",
    "df_.shape #240 ==> 240/4*3 = 180"
   ]
  },
  {
   "cell_type": "markdown",
   "metadata": {},
   "source": [
    "load dataset"
   ]
  },
  {
   "cell_type": "code",
   "execution_count": 47,
   "metadata": {},
   "outputs": [
    {
     "name": "stdout",
     "output_type": "stream",
     "text": [
      "<class 'dict'>\n",
      "{'experiment': {'name': 'U-NET-252-boxy_0034', 'experiment_folder': 'lightning_logs/', 'sub_folder': 'baseline', 'precision': 32, 'logging': True}, 'dataset': {'generate_samples': False, 'sat_bands': ['IR_016', 'IR_039', 'IR_087', 'IR_097', 'IR_108', 'IR_120', 'IR_134', 'VIS006', 'VIS008', 'WV_062', 'WV_073'], 'regions': ['boxi_0034'], 'input_product': 'REFL-BT', 'output_product': 'RATE', 'out_channels': 1, 'in_channels': 11, 'swap_time_ch': True, 'full_opera_context': 1512, 'size_target_center': 252, 'len_seq_in': 4, 'len_seq_predict': 32, 'data_root': './data/2019', 'splits_path': './data/timestamps_and_splits_2019.csv', 'path_to_sample_ids': 'utils/cached_sample_ids/samples_IDs_2019_stage1_boxy_0034.pkl', 'preprocess_OPERA': {'RATE': {'rainfall_rate-500X500': {'mask': [-9999000.0, 'inf', 'nan', 'max128'], 'map': [['lessthan0.001', 0], ['greaterthan0.001', 1], [-8888000.0, 0], [-9999000.0, 0], ['inf', 0], ['nan', 0]], 'mean_std': [0.07165331, 0.6302647], 'range': [0, 128], 'standardise': False, 'bin': False}}}, 'preprocess_HRIT': {'IR_016': {'map': [['inf', 0], ['nan', 0]], 'range': [0, 1.02], 'mean_std': [0.06605569, 0.09920627], 'standardise': False}, 'IR_039': {'map': [['inf', 0], ['nan', 0]], 'range': [0, 350], 'mean_std': [273.2187, 15.98847], 'standardise': False}, 'IR_087': {'map': [['inf', 0], ['nan', 0]], 'range': [0, 350], 'mean_std': [268.3977, 17.49075], 'standardise': False}, 'IR_097': {'map': [['inf', 0], ['nan', 0]], 'range': [0, 350], 'mean_std': [246.1366, 10.81174], 'standardise': False}, 'IR_108': {'map': [['inf', 0], ['nan', 0]], 'range': [0, 350], 'mean_std': [270.1535, 18.49373], 'standardise': False}, 'IR_120': {'map': [['inf', 0], ['nan', 0]], 'range': [0, 350], 'mean_std': [268.7993, 18.42736], 'standardise': False}, 'IR_134': {'map': [['inf', 0], ['nan', 0]], 'range': [0, 350], 'mean_std': [250.6491, 11.70623], 'standardise': False}, 'VIS006': {'map': [['inf', 0], ['nan', 0]], 'range': [0, 1.02], 'mean_std': [0.06711527, 0.1101766], 'standardise': False}, 'VIS008': {'map': [['inf', 0], ['nan', 0]], 'range': [0, 1.2], 'mean_std': [0.08736397, 0.1326554], 'standardise': False}, 'WV_062': {'map': [['inf', 0], ['nan', 0]], 'range': [0, 300], 'mean_std': [232.1964, 5.531017], 'standardise': False}, 'WV_073': {'map': [['inf', 0], ['nan', 0]], 'range': [0, 300], 'mean_std': [248.0414, 9.495061], 'standardise': False}}}, 'train': {'batch_size': 25, 'max_epochs': 30, 'n_workers': 16, 'loss': 'DiceBCE', 'pos_weight': 6.114572, 'early_stopping': True, 'patience': 15, 'lr': '1e-4', 'weight_decay': '2e-2', 'init_filter_size': 32, 'mixup': 'mixup', 'alpha': 0.2, 'cutmix_p': 1.0}, 'model': {'model_name': '3D_UNET_base', 'in_channels': 11, 'gradient_clip_val': 2.0, 'gradient_clip_algorithm': 'value', 'attention': True}, 'predict': {'region_to_predict': 'boxi_0034', 'year_to_predict': 2019}}\n",
      "load_sample_ids using pkl cache: utils/cached_sample_ids/samples_IDs_2019_stage1_boxy_0034.pkl\n",
      "load_sample_ids using pkl cache: utils/cached_sample_ids/samples_IDs_2019_stage1_boxy_0034.pkl\n",
      "load_sample_ids using pkl cache: utils/cached_sample_ids/samples_IDs_2019_stage1_boxy_0034.pkl\n"
     ]
    }
   ],
   "source": [
    "import yaml\n",
    "\n",
    "with open(\"models/configurations/config_34.yaml\", \"r\") as stream:\n",
    "    try:\n",
    "        # print(yaml.safe_load(stream))\n",
    "        config = yaml.safe_load(stream)\n",
    "    except yaml.YAMLError as exc:\n",
    "        print(exc)\n",
    "print(type(config))\n",
    "\n",
    "for band in config['dataset']['sat_bands']:\n",
    "  config['dataset']['preprocess_HRIT'][band]['standardise'] = False\n",
    "# config['dataset']['preprocess_OPERA'][band]['standardise'] = False\n",
    "# print(config['preprocess_HRIT'])\n",
    "print (config)\n",
    "data = DataModule(config['dataset'], config['train'], 'train')\n",
    "test_data = DataModule(config['dataset'], config['train'], 'predict')"
   ]
  },
  {
   "cell_type": "code",
   "execution_count": 48,
   "metadata": {},
   "outputs": [
    {
     "name": "stdout",
     "output_type": "stream",
     "text": [
      "load_sample_ids using pkl cache: utils/cached_sample_ids/samples_IDs_2019_stage1_boxy_0034.pkl\n",
      "load_sample_ids using pkl cache: utils/cached_sample_ids/samples_IDs_2019_stage1_boxy_0034.pkl\n",
      "load_sample_ids using pkl cache: utils/cached_sample_ids/samples_IDs_2019_stage1_boxy_0034.pkl\n",
      "0\n",
      "torch.Size([11]) torch.Size([11]) 11 11\n",
      "1\n",
      "torch.Size([11]) torch.Size([11]) 11 11\n",
      "2\n",
      "torch.Size([11]) torch.Size([11]) 11 11\n",
      "3\n",
      "torch.Size([11]) torch.Size([11]) 11 11\n",
      "4\n",
      "torch.Size([11]) torch.Size([11]) 11 11\n",
      "5\n",
      "torch.Size([11]) torch.Size([11]) 11 11\n",
      "6\n",
      "torch.Size([11]) torch.Size([11]) 11 11\n",
      "7\n",
      "torch.Size([11]) torch.Size([11]) 11 11\n",
      "8\n",
      "torch.Size([11]) torch.Size([11]) 11 11\n",
      "9\n",
      "torch.Size([11]) torch.Size([11]) 11 11\n",
      "10\n",
      "torch.Size([11]) torch.Size([11]) 11 11\n",
      "11\n",
      "torch.Size([11]) torch.Size([11]) 11 11\n",
      "12\n",
      "torch.Size([11]) torch.Size([11]) 11 11\n",
      "13\n",
      "torch.Size([11]) torch.Size([11]) 11 11\n",
      "14\n",
      "torch.Size([11]) torch.Size([11]) 11 11\n",
      "15\n",
      "torch.Size([11]) torch.Size([11]) 11 11\n",
      "16\n",
      "torch.Size([11]) torch.Size([11]) 11 11\n",
      "17\n",
      "torch.Size([11]) torch.Size([11]) 11 11\n",
      "18\n",
      "torch.Size([11]) torch.Size([11]) 11 11\n",
      "19\n",
      "torch.Size([11]) torch.Size([11]) 11 11\n",
      "20\n",
      "torch.Size([11]) torch.Size([11]) 11 11\n",
      "21\n",
      "torch.Size([11]) torch.Size([11]) 11 11\n",
      "22\n",
      "torch.Size([11]) torch.Size([11]) 11 11\n",
      "(11,)\n",
      "[7.4157745e-02 2.7194778e+02 2.6658990e+02 2.4445258e+02 2.6834473e+02\n",
      " 2.6700644e+02 2.4921017e+02 7.1279280e-02 9.7645245e-02 2.3129645e+02\n",
      " 2.4687100e+02] [ 0.0384883  10.989046   13.492617    7.165375   14.349      14.353542\n",
      "  8.789726    0.04463534  0.04725534  4.110276    7.2835355 ] [0, 0, 0, 0, 0, 0, 0, 0, 0, 0, 0] [tensor(1.0011), tensor(334.1492), tensor(326.3914), tensor(301.0066), tensor(338.0375), tensor(337.3713), tensor(300.8559), tensor(0.9951), tensor(1.0770), tensor(260.9901), tensor(289.8742)]\n"
     ]
    }
   ],
   "source": [
    "from torch.utils.data import DataLoader\n",
    "import torch\n",
    "##input\n",
    "def get_mean_std(batch_size = 1000):\n",
    "    \"\"\"Get the mean and stdev of the different image bands\n",
    "    Args:\n",
    "        times (list): timepoints to get mean from \n",
    "        batch_size (int, optional): batch size for dataloader. Defaults to 1000.\n",
    "    Returns:\n",
    "        mean (list): list of band means\n",
    "        stdev (list): list of band stdevs\n",
    "    \"\"\"\n",
    "    \n",
    "    nimages = 0\n",
    "    mean = 0\n",
    "    std = 0\n",
    "    count = 0\n",
    "    mi = [0] *11\n",
    "    ma = [0] * 11\n",
    "\n",
    "    data = DataModule(config['dataset'], config['train'], 'train')\n",
    "    test_data = DataModule(config['dataset'], config['train'], 'predict')\n",
    "    for loader in [DataLoader(data.train_ds, batch_size=batch_size), DataLoader(data.val_ds, batch_size=batch_size),DataLoader(test_data.test_ds, batch_size=batch_size)]:\n",
    "      for batch, _, _ in loader: #input_data, output_data, metadata\n",
    "          print(count)\n",
    "          count += 1\n",
    "          # Rearrange batch to be the shape of [B, C, T * W * H]\n",
    "          # print(batch.size())\n",
    "          batch = batch.view(batch.size(0), batch.size(1), -1)\n",
    "          # print(batch.size())\n",
    "          # Update total number of images\n",
    "          nimages += batch.size(0)\n",
    "\n",
    "          #Compute mean of T * W * H \n",
    "          # Sum over samples\n",
    "          mean += batch.mean(2).sum(0) \n",
    "          std += batch.std(2).sum(0)\n",
    "          mi_ = torch.min(torch.min(batch, 2)[0], 0)[0]\n",
    "          ma_ = torch.max(torch.max(batch, 2)[0], 0)[0]\n",
    "          mi = [min(i, j) for i, j in zip(mi, mi_ )]\n",
    "          ma = [max(i, j) for i, j in zip(ma, ma_)]\n",
    "          print(mean.size(), std.size(), len(mi), len(ma))\n",
    "\n",
    "    # Final step - divide by number of images to get average of each band\n",
    "    mean /= nimages\n",
    "    std /= nimages\n",
    "    print(np.array(mean).shape)\n",
    "    return np.array(mean),np.array(std), mi, ma\n",
    "\n",
    "\n",
    "m, std, mi, ma = get_mean_std()\n",
    "print(m, std, mi, ma)"
   ]
  },
  {
   "cell_type": "code",
   "execution_count": 49,
   "metadata": {},
   "outputs": [
    {
     "name": "stdout",
     "output_type": "stream",
     "text": [
      "load_sample_ids using pkl cache: utils/cached_sample_ids/samples_IDs_2019_stage1_boxy_0034.pkl\n",
      "load_sample_ids using pkl cache: utils/cached_sample_ids/samples_IDs_2019_stage1_boxy_0034.pkl\n",
      "load_sample_ids using pkl cache: utils/cached_sample_ids/samples_IDs_2019_stage1_boxy_0034.pkl\n",
      "0\n",
      "torch.Size([1000, 1, 2032128])\n",
      "torch.Size([1]) torch.Size([1]) 1 1\n",
      "1\n",
      "torch.Size([1000, 1, 2032128])\n",
      "torch.Size([1]) torch.Size([1]) 1 1\n",
      "2\n",
      "torch.Size([1000, 1, 2032128])\n",
      "torch.Size([1]) torch.Size([1]) 1 1\n",
      "3\n",
      "torch.Size([1000, 1, 2032128])\n",
      "torch.Size([1]) torch.Size([1]) 1 1\n",
      "4\n",
      "torch.Size([1000, 1, 2032128])\n",
      "torch.Size([1]) torch.Size([1]) 1 1\n",
      "5\n",
      "torch.Size([1000, 1, 2032128])\n",
      "torch.Size([1]) torch.Size([1]) 1 1\n",
      "6\n",
      "torch.Size([1000, 1, 2032128])\n",
      "torch.Size([1]) torch.Size([1]) 1 1\n",
      "7\n",
      "torch.Size([1000, 1, 2032128])\n",
      "torch.Size([1]) torch.Size([1]) 1 1\n",
      "8\n",
      "torch.Size([1000, 1, 2032128])\n",
      "torch.Size([1]) torch.Size([1]) 1 1\n",
      "9\n",
      "torch.Size([1000, 1, 2032128])\n",
      "torch.Size([1]) torch.Size([1]) 1 1\n",
      "10\n",
      "torch.Size([1000, 1, 2032128])\n",
      "torch.Size([1]) torch.Size([1]) 1 1\n",
      "11\n",
      "torch.Size([1000, 1, 2032128])\n",
      "torch.Size([1]) torch.Size([1]) 1 1\n",
      "12\n",
      "torch.Size([1000, 1, 2032128])\n",
      "torch.Size([1]) torch.Size([1]) 1 1\n",
      "13\n",
      "torch.Size([1000, 1, 2032128])\n",
      "torch.Size([1]) torch.Size([1]) 1 1\n",
      "14\n",
      "torch.Size([1000, 1, 2032128])\n",
      "torch.Size([1]) torch.Size([1]) 1 1\n",
      "15\n",
      "torch.Size([1000, 1, 2032128])\n",
      "torch.Size([1]) torch.Size([1]) 1 1\n",
      "16\n",
      "torch.Size([1000, 1, 2032128])\n",
      "torch.Size([1]) torch.Size([1]) 1 1\n",
      "17\n",
      "torch.Size([1000, 1, 2032128])\n",
      "torch.Size([1]) torch.Size([1]) 1 1\n",
      "18\n",
      "torch.Size([1000, 1, 2032128])\n",
      "torch.Size([1]) torch.Size([1]) 1 1\n",
      "19\n",
      "torch.Size([1000, 1, 2032128])\n",
      "torch.Size([1]) torch.Size([1]) 1 1\n",
      "20\n",
      "torch.Size([273, 1, 2032128])\n",
      "torch.Size([1]) torch.Size([1]) 1 1\n",
      "(1,)\n",
      "[0.19818464] [0.26793218] [0] [tensor(1.)]\n"
     ]
    }
   ],
   "source": [
    "from torch.utils.data import DataLoader\n",
    "import torch\n",
    "##output\n",
    "def get_mean_std(batch_size = 1000):\n",
    "    \"\"\"Get the mean and stdev of the different image bands\n",
    "    Args:\n",
    "        times (list): timepoints to get mean from \n",
    "        batch_size (int, optional): batch size for dataloader. Defaults to 1000.\n",
    "    Returns:\n",
    "        mean (list): list of band means\n",
    "        stdev (list): list of band stdevs\n",
    "    \"\"\"\n",
    "    \n",
    "    nimages = 0\n",
    "    mean = 0\n",
    "    std = 0\n",
    "    count = 0\n",
    "    mi = [0] *11\n",
    "    ma = [0] * 11\n",
    "\n",
    "    data = DataModule(config['dataset'], config['train'], 'train')\n",
    "    test_data = DataModule(config['dataset'], config['train'], 'predict')\n",
    "    for loader in [DataLoader(data.train_ds, batch_size=batch_size), DataLoader(data.val_ds, batch_size=batch_size),DataLoader(test_data.test_ds, batch_size=batch_size)]:\n",
    "      for _, output_data, metadata in loader: #input_data, output_data, metadata\n",
    "          if count >=21:\n",
    "            break\n",
    "          print(count)\n",
    "          count += 1\n",
    "          # Rearrange batch to be the shape of [B, C, T * W * H]\n",
    "          # if count==1: print(metadata, \"| \", output_data.size())\n",
    "          # print(np.array(output_data).shape) #[1000, 1, 32, 252, 252]\n",
    "          batch = output_data.view(output_data.size(0), output_data.size(1), -1)\n",
    "          print(batch.size())\n",
    "          # Update total number of images\n",
    "          nimages += batch.size(0)\n",
    "\n",
    "          #Compute mean of T * W * H \n",
    "          # Sum over samples\n",
    "          mean += batch.mean(2).sum(0)\n",
    "          std += batch.std(2).sum(0)\n",
    "          mi_ = torch.min(torch.min(batch, 2)[0], 0)[0]\n",
    "          ma_ = torch.max(torch.max(batch, 2)[0], 0)[0]\n",
    "          mi = [min(i, j) for i, j in zip(mi, mi_ )]\n",
    "          ma = [max(i, j) for i, j in zip(ma, ma_)]\n",
    "          print(mean.size(), std.size(), len(mi), len(ma))\n",
    "\n",
    "    # Final step - divide by number of images to get average of each band\n",
    "    mean /= nimages\n",
    "    std /= nimages\n",
    "    print(np.array(mean).shape)\n",
    "    return np.array(mean),np.array(std), mi, ma\n",
    "\n",
    "m, std, mi, ma = get_mean_std()\n",
    "print(m, std, mi, ma)"
   ]
  },
  {
   "cell_type": "code",
   "execution_count": 4,
   "metadata": {},
   "outputs": [
    {
     "name": "stdout",
     "output_type": "stream",
     "text": [
      "60819 180\n"
     ]
    }
   ],
   "source": [
    "\n",
    "train_dataset = data.train_ds\n",
    "val_dataset = data.val_ds\n",
    "# test_dataset = test_data.test_ds\n",
    "with open('./train_dataset.txt', 'w') as f:\n",
    "  f.write(str(vars(train_dataset)))\n",
    "print(train_dataset.__len__(), val_dataset.__len__())\n",
    "input_data, output_data, metadata = train_dataset.__getitem__(60818)\n"
   ]
  },
  {
   "cell_type": "code",
   "execution_count": 5,
   "metadata": {},
   "outputs": [
    {
     "name": "stdout",
     "output_type": "stream",
     "text": [
      "(11, 4, 252, 252) (1, 32, 252, 252)\n",
      "1807\n"
     ]
    }
   ],
   "source": [
    "print(input_data.shape, output_data.shape)\n",
    "print(np.count_nonzero(output_data))\n"
   ]
  },
  {
   "cell_type": "markdown",
   "metadata": {},
   "source": [
    "### Visualize Rain or Not for one datapoint"
   ]
  },
  {
   "cell_type": "code",
   "execution_count": 29,
   "metadata": {},
   "outputs": [
    {
     "data": {
      "image/png": "[encoded data removed]",
      "text/plain": [
       "<Figure size 432x288 with 32 Axes>"
      ]
     },
     "metadata": {
      "needs_background": "light"
     },
     "output_type": "display_data"
    }
   ],
   "source": [
    "fig = plt.figure()\n",
    "for i in range(output_data.shape[1]):\n",
    "  sub = fig.add_subplot(4, 8, i+1)\n",
    "  sub.imshow(output_data[0][i,:,:])\n",
    "plt.show()"
   ]
  },
  {
   "cell_type": "markdown",
   "metadata": {},
   "source": [
    "### Rain or Not rain wrt Time"
   ]
  },
  {
   "cell_type": "code",
   "execution_count": 18,
   "metadata": {},
   "outputs": [
    {
     "name": "stderr",
     "output_type": "stream",
     "text": [
      "100%|██████████| 60819/60819 [1:11:15<00:00, 14.23it/s]\n"
     ]
    },
    {
     "name": "stdout",
     "output_type": "stream",
     "text": [
      "3864218400 3224531356 639687044\n"
     ]
    }
   ],
   "source": [
    "di = {\"timestamp\": [], \"total\": [], \"rain\": [], \"no_rain\": []}\n",
    "total, no_rain_cnt, rain_cnt = 0, 0, 0\n",
    "for i in tqdm(range(train_dataset.__len__())):\n",
    "  input_data, output_data, metadata = train_dataset.__getitem__(i)\n",
    "  # output_data (1,32,252, 252)\n",
    "  # get first element from prediction sequence\n",
    "  output_data = output_data[0][0]\n",
    "  total += (~np.isnan(output_data)).sum()\n",
    "  no_rain_cnt += (output_data == 0).sum()\n",
    "  rain_cnt += (output_data == 1).sum()\n",
    "  assert total == no_rain_cnt + rain_cnt\n",
    "  \n",
    "  input_timestamp = metadata['input']['timestamps']\n",
    "  output_timestamp = metadata['target']['timestamps']\n",
    "  assert len(output_timestamp) == 32\n",
    "  # get first element from output_timestamp\n",
    "  head = output_timestamp[0]\n",
    "  \n",
    "  di['timestamp'].append(head)\n",
    "  di[\"total\"].append( (~np.isnan(output_data)).sum())\n",
    "  di[\"no_rain\"].append((output_data == 0).sum())\n",
    "  di[\"rain\"].append( (output_data == 1).sum())\n",
    "\n",
    "last = train_dataset.__len__()-1\n",
    "input_data, output_data, metadata = train_dataset.__getitem__(last)\n",
    "# output_data (1,32,252, 252)\n",
    "# get second to last element from prediction sequence\n",
    "output_data = output_data[0][1:]\n",
    "total += (~np.isnan(output_data)).sum()\n",
    "no_rain_cnt += (output_data == 0).sum()\n",
    "rain_cnt += (output_data == 1).sum()\n",
    "assert total == no_rain_cnt + rain_cnt\n",
    "\n",
    "input_timestamp = metadata['input']['timestamps']\n",
    "output_timestamp = metadata['target']['timestamps']\n",
    "assert len(output_timestamp) == 32\n",
    "# get second to last element from output_timestamp\n",
    "for t_i, t in enumerate(output_timestamp[1:]):\n",
    "  di['timestamp'].append(t)\n",
    "  di[\"total\"].append( (~np.isnan(output_data[t_i, :, :])).sum())\n",
    "  di[\"no_rain\"].append((output_data[t_i, :, :] == 0).sum())\n",
    "  di[\"rain\"].append( (output_data[t_i, :, :] == 1).sum())\n",
    "\n",
    "\n",
    "print(total, no_rain_cnt, rain_cnt) #3864218400 3224531356 639687044\n",
    "temporal_df = pd.DataFrame(di)\n",
    "temporal_df.to_csv(\"./outputs/rain_per_timestamp_train.csv\", index=True)\n"
   ]
  },
  {
   "cell_type": "markdown",
   "metadata": {},
   "source": [
    "### Rain or Not ratio for entire dataset"
   ]
  },
  {
   "cell_type": "code",
   "execution_count": 19,
   "metadata": {},
   "outputs": [
    {
     "data": {
      "text/plain": [
       "(0.8344588794463584, 0.1655411205536416)"
      ]
     },
     "execution_count": 19,
     "metadata": {},
     "output_type": "execute_result"
    }
   ],
   "source": [
    "no_rain_cnt/total, rain_cnt/total"
   ]
  },
  {
   "cell_type": "markdown",
   "metadata": {},
   "source": [
    "### Map timestamp (sample idxs) to date"
   ]
  },
  {
   "cell_type": "code",
   "execution_count": 29,
   "metadata": {},
   "outputs": [
    {
     "name": "stdout",
     "output_type": "stream",
     "text": [
      "20308\n"
     ]
    }
   ],
   "source": [
    "## map timestamp to date\n",
    "def timestamp_mapper(df, data_split='training', len_seq_in=4, len_seq_predict=32):\n",
    "  map = {}\n",
    "  idxs = []\n",
    "  df_ = df[df['split'] == data_split]\n",
    "  df_ = df_[df_['all_vars'] == 1]\n",
    "  print(df_.shape[0])##must be 20308\n",
    "  # non testing\n",
    "  for i in range(df_.shape[0]):\n",
    "    map[i] = df_.iloc[i,:]['date']\n",
    "  return map\n",
    "\n",
    "train_mapper = timestamp_mapper(df, \"training\")\n",
    "# val_mapper = timestamp_mapper(temporal_df, \"validation\")"
   ]
  },
  {
   "cell_type": "code",
   "execution_count": 30,
   "metadata": {},
   "outputs": [],
   "source": [
    "## add datetime column to temporal_df\n",
    "temporal_df['datetime'] = temporal_df['timestamp'].apply(lambda row: train_mapper[row])\n"
   ]
  },
  {
   "cell_type": "code",
   "execution_count": 31,
   "metadata": {},
   "outputs": [
    {
     "data": {
      "text/html": [
       "<div>\n",
       "<style scoped>\n",
       "    .dataframe tbody tr th:only-of-type {\n",
       "        vertical-align: middle;\n",
       "    }\n",
       "\n",
       "    .dataframe tbody tr th {\n",
       "        vertical-align: top;\n",
       "    }\n",
       "\n",
       "    .dataframe thead th {\n",
       "        text-align: right;\n",
       "    }\n",
       "</style>\n",
       "<table border=\"1\" class=\"dataframe\">\n",
       "  <thead>\n",
       "    <tr style=\"text-align: right;\">\n",
       "      <th></th>\n",
       "      <th>timestamp</th>\n",
       "      <th>total</th>\n",
       "      <th>rain</th>\n",
       "      <th>no_rain</th>\n",
       "      <th>datetime</th>\n",
       "    </tr>\n",
       "  </thead>\n",
       "  <tbody>\n",
       "    <tr>\n",
       "      <th>0</th>\n",
       "      <td>4</td>\n",
       "      <td>63504</td>\n",
       "      <td>0</td>\n",
       "      <td>63504</td>\n",
       "      <td>2019-02-15</td>\n",
       "    </tr>\n",
       "    <tr>\n",
       "      <th>1</th>\n",
       "      <td>5</td>\n",
       "      <td>63504</td>\n",
       "      <td>0</td>\n",
       "      <td>63504</td>\n",
       "      <td>2019-02-15</td>\n",
       "    </tr>\n",
       "    <tr>\n",
       "      <th>2</th>\n",
       "      <td>6</td>\n",
       "      <td>63504</td>\n",
       "      <td>0</td>\n",
       "      <td>63504</td>\n",
       "      <td>2019-02-15</td>\n",
       "    </tr>\n",
       "    <tr>\n",
       "      <th>3</th>\n",
       "      <td>7</td>\n",
       "      <td>63504</td>\n",
       "      <td>0</td>\n",
       "      <td>63504</td>\n",
       "      <td>2019-02-15</td>\n",
       "    </tr>\n",
       "    <tr>\n",
       "      <th>4</th>\n",
       "      <td>8</td>\n",
       "      <td>63504</td>\n",
       "      <td>0</td>\n",
       "      <td>63504</td>\n",
       "      <td>2019-02-15</td>\n",
       "    </tr>\n",
       "  </tbody>\n",
       "</table>\n",
       "</div>"
      ],
      "text/plain": [
       "   timestamp  total  rain  no_rain   datetime\n",
       "0          4  63504     0    63504 2019-02-15\n",
       "1          5  63504     0    63504 2019-02-15\n",
       "2          6  63504     0    63504 2019-02-15\n",
       "3          7  63504     0    63504 2019-02-15\n",
       "4          8  63504     0    63504 2019-02-15"
      ]
     },
     "execution_count": 31,
     "metadata": {},
     "output_type": "execute_result"
    }
   ],
   "source": [
    "temporal_df.head()"
   ]
  },
  {
   "cell_type": "code",
   "execution_count": 32,
   "metadata": {},
   "outputs": [],
   "source": [
    "temporal_df.to_csv(\"./outputs/rain_per_timestamp_train.csv\")"
   ]
  },
  {
   "cell_type": "code",
   "execution_count": 67,
   "metadata": {},
   "outputs": [],
   "source": [
    "temporal_df = pd.read_csv(\"./outputs/rain_per_timestamp_train.csv\")"
   ]
  },
  {
   "cell_type": "markdown",
   "metadata": {},
   "source": [
    "### Rain rate per 15min "
   ]
  },
  {
   "cell_type": "code",
   "execution_count": 69,
   "metadata": {},
   "outputs": [
    {
     "data": {
      "text/plain": [
       "((20304, 7),\n",
       "    timestamp  Unnamed: 0   total  rain  no_rain  no_rain_ratio  rain_ratio\n",
       " 0          4       60819  190512     0   190512            1.0         0.0\n",
       " 1          5       60822  190512     0   190512            1.0         0.0\n",
       " 2          6       60825  190512     0   190512            1.0         0.0\n",
       " 3          7       60828  190512     0   190512            1.0         0.0\n",
       " 4          8       60831  190512     0   190512            1.0         0.0)"
      ]
     },
     "execution_count": 69,
     "metadata": {},
     "output_type": "execute_result"
    }
   ],
   "source": [
    "stats_by_time = temporal_df.groupby('timestamp', as_index=False).aggregate('sum')\n",
    "stats_by_time = get_ratios(stats_by_time)\n",
    "stats_by_time.reset_index()\n",
    "stats_by_time.shape, stats_by_time.head()"
   ]
  },
  {
   "cell_type": "code",
   "execution_count": 85,
   "metadata": {},
   "outputs": [],
   "source": []
  },
  {
   "cell_type": "code",
   "execution_count": 74,
   "metadata": {},
   "outputs": [
    {
     "data": {
      "text/plain": [
       "<Figure size 7200x400 with 1 Axes>"
      ]
     },
     "execution_count": 74,
     "metadata": {},
     "output_type": "execute_result"
    }
   ],
   "source": [
    "## draw ratio per timestamp\n",
    "figure = mlb.figure.Figure(figsize=(72, 4))\n",
    "ax1 = figure.subplots()\n",
    "# color = \"tab:blue\"\n",
    "ax1.plot(stats_by_time.timestamp, stats_by_time.rain_ratio, label=\"Rain\")\n",
    "ax1.set_xlabel('Date')\n",
    "ax1.set_ylabel('Ratio')\n",
    "\n",
    "ax1.legend()\n",
    "\n",
    "for label in ax1.get_xticklabels(which='major'):\n",
    "    label.set(rotation=30, horizontalalignment='right')\n",
    "\n",
    "ax1.grid(which=\"major\", axis=\"x\", linestyle=\"-\")\n",
    "ax1.grid(which=\"minor\", axis=\"x\", linestyle=\":\")\n",
    "\n",
    "# ax1.grid(axis=\"x\", linestyle=\"--\")\n",
    "# ax1.grid(which=\"minor\", axis=\"x\", linestyle=\"--\")\n",
    "\n",
    "figure.tight_layout(pad=0.5)\n",
    "figure.savefig(\"precipitation_ratio_by_timestamp.pdf\")\n",
    "\n",
    "figure"
   ]
  },
  {
   "cell_type": "markdown",
   "metadata": {},
   "source": [
    "### Rain rates per month (datetime)"
   ]
  },
  {
   "cell_type": "code",
   "execution_count": 73,
   "metadata": {},
   "outputs": [
    {
     "data": {
      "text/plain": [
       "((319, 8),\n",
       "      datetime  Unnamed: 0  timestamp     total    rain   no_rain  \\\n",
       " 0  2019-02-15     5607906      13662  17527104    3093  17524011   \n",
       " 1  2019-02-16     5878800      41328  18289152   15196  18273956   \n",
       " 2  2019-02-17     5104998      58017  15812496   41057  15771439   \n",
       " 3  2019-02-18     1356597      18843   4191264  934348   3256916   \n",
       " 4  2019-02-19     2903049      45120   8954064  933097   8020967   \n",
       " \n",
       "    no_rain_ratio  rain_ratio  \n",
       " 0       0.999824    0.000176  \n",
       " 1       0.999169    0.000831  \n",
       " 2       0.997404    0.002596  \n",
       " 3       0.777073    0.222927  \n",
       " 4       0.895791    0.104209  )"
      ]
     },
     "execution_count": 73,
     "metadata": {},
     "output_type": "execute_result"
    }
   ],
   "source": [
    "stats_by_datetime = temporal_df.groupby('datetime', as_index=False).aggregate('sum')\n",
    "stats_by_datetime = get_ratios(stats_by_datetime)\n",
    "stats_by_datetime.reset_index()\n",
    "stats_by_datetime.shape, stats_by_datetime.head()"
   ]
  },
  {
   "cell_type": "code",
   "execution_count": 87,
   "metadata": {},
   "outputs": [
    {
     "data": {
      "text/plain": [
       "<Figure size 7200x400 with 1 Axes>"
      ]
     },
     "execution_count": 87,
     "metadata": {},
     "output_type": "execute_result"
    }
   ],
   "source": [
    "## draw ratio per timestamp\n",
    "figure = mlb.figure.Figure(figsize=(72, 4))\n",
    "ax1 = figure.subplots()\n",
    "# color = \"tab:blue\"\n",
    "ax1.plot(stats_by_datetime.datetime, stats_by_datetime.rain_ratio, label=\"Rain\")\n",
    "ax1.set_xlabel('Date')\n",
    "ax1.set_ylabel('Ratio')\n",
    "\n",
    "ax1.xaxis.set_minor_locator(ticker.MaxNLocator(4))\n",
    "ax1.xaxis.set_major_formatter(mdates.DateFormatter('%b %d'))\n",
    "\n",
    "\n",
    "ax1.legend()\n",
    "\n",
    "for label in ax1.get_xticklabels(which='major'):\n",
    "    label.set(rotation=30, horizontalalignment='right')\n",
    "\n",
    "ax1.grid(which=\"major\", axis=\"x\", linestyle=\"-\")\n",
    "ax1.grid(which=\"minor\", axis=\"x\", linestyle=\":\")\n",
    "\n",
    "# ax1.grid(axis=\"x\", linestyle=\"--\")\n",
    "# ax1.grid(which=\"minor\", axis=\"x\", linestyle=\"--\")\n",
    "\n",
    "figure.tight_layout(pad=0.5)\n",
    "figure.savefig(\"./outputs/precipitation_ratio_by_datetime.pdf\")\n",
    "\n",
    "figure"
   ]
  },
  {
   "cell_type": "code",
   "execution_count": 5,
   "metadata": {},
   "outputs": [
    {
     "data": {
      "text/plain": [
       "array([0, 1, 2, 3, 4, 5, 6, 7, 8])"
      ]
     },
     "execution_count": 5,
     "metadata": {},
     "output_type": "execute_result"
    }
   ],
   "source": [
    "arr = np.array([[0,1,2,],[3,4,5],[6,7,8]])\n",
    "arr = arr.flatten()\n",
    "arr"
   ]
  },
  {
   "cell_type": "markdown",
   "metadata": {},
   "source": [
    "### pointwise rain rate"
   ]
  },
  {
   "cell_type": "code",
   "execution_count": 3,
   "metadata": {},
   "outputs": [
    {
     "name": "stdout",
     "output_type": "stream",
     "text": [
      "{'experiment': {'name': 'U-NET-252', 'experiment_folder': 'lightning_logs/', 'sub_folder': 'baseline', 'precision': 32, 'logging': True}, 'dataset': {'generate_samples': True, 'sat_bands': ['IR_016', 'IR_039', 'IR_087', 'IR_097', 'IR_108', 'IR_120', 'IR_134', 'VIS006', 'VIS008', 'WV_062', 'WV_073'], 'regions': ['boxi_0015', 'boxi_0034', 'boxi_0076'], 'input_product': 'REFL-BT', 'output_product': 'RATE', 'out_channels': 1, 'in_channels': 11, 'swap_time_ch': True, 'full_opera_context': 1512, 'size_target_center': 252, 'len_seq_in': 4, 'len_seq_predict': 32, 'data_root': 'data/2019', 'splits_path': 'data/timestamps_and_splits_2019.csv', 'path_to_sample_ids': 'utils/cached_sample_ids/samples_IDs_2019_stage1.pkl', 'preprocess_OPERA': {'RATE': {'rainfall_rate-500X500': {'mask': [-9999000.0, 'inf', 'nan', 'max128'], 'map': [['lessthan0', 0], ['greaterthan0', 1], [-8888000.0, 0], [-9999000.0, 0], ['inf', 0], ['nan', 0]], 'mean_std': [0.07165331, 0.6302647], 'range': [0, 128], 'standardise': False, 'bin': False}}}, 'preprocess_HRIT': {'IR_016': {'map': [['inf', 0], ['nan', 0]], 'range': [0, 1.02], 'mean_std': [0.06605569, 0.09920627], 'standardise': True}, 'IR_039': {'map': [['inf', 0], ['nan', 0]], 'range': [0, 350], 'mean_std': [273.2187, 15.98847], 'standardise': True}, 'IR_087': {'map': [['inf', 0], ['nan', 0]], 'range': [0, 350], 'mean_std': [268.3977, 17.49075], 'standardise': True}, 'IR_097': {'map': [['inf', 0], ['nan', 0]], 'range': [0, 350], 'mean_std': [246.1366, 10.81174], 'standardise': True}, 'IR_108': {'map': [['inf', 0], ['nan', 0]], 'range': [0, 350], 'mean_std': [270.1535, 18.49373], 'standardise': True}, 'IR_120': {'map': [['inf', 0], ['nan', 0]], 'range': [0, 350], 'mean_std': [268.7993, 18.42736], 'standardise': True}, 'IR_134': {'map': [['inf', 0], ['nan', 0]], 'range': [0, 350], 'mean_std': [250.6491, 11.70623], 'standardise': True}, 'VIS006': {'map': [['inf', 0], ['nan', 0]], 'range': [0, 1.02], 'mean_std': [0.06711527, 0.1101766], 'standardise': True}, 'VIS008': {'map': [['inf', 0], ['nan', 0]], 'range': [0, 1.2], 'mean_std': [0.08736397, 0.1326554], 'standardise': True}, 'WV_062': {'map': [['inf', 0], ['nan', 0]], 'range': [0, 300], 'mean_std': [232.1964, 5.531017], 'standardise': True}, 'WV_073': {'map': [['inf', 0], ['nan', 0]], 'range': [0, 300], 'mean_std': [248.0414, 9.495061], 'standardise': True}}}, 'train': {'batch_size': 8, 'max_epochs': 90, 'n_workers': 6, 'loss': 'BCEWithLogitsLoss', 'pos_weight': 6.114572, 'early_stopping': True, 'patience': 5, 'lr': '1e-4', 'weight_decay': '2e-2', 'init_filter_size': 32, 'dropout_rate': 0.4}, 'model': {'model_name': '3D_UNET_base', 'in_channels': 11, 'gradient_clip_val': 2.0, 'gradient_clip_algorithm': 'value'}, 'predict': {'region_to_predict': 'boxi_0015', 'year_to_predict': 2019}}\n"
     ]
    }
   ],
   "source": [
    "import yaml\n",
    "\n",
    "with open(\"models/configurations/config_baseline.yaml\", \"r\") as stream:\n",
    "    try:\n",
    "        # print(yaml.safe_load(stream))\n",
    "        config = yaml.safe_load(stream)\n",
    "    except yaml.YAMLError as exc:\n",
    "        print(exc)\n",
    "print (config)"
   ]
  },
  {
   "cell_type": "code",
   "execution_count": 28,
   "metadata": {},
   "outputs": [
    {
     "name": "stdout",
     "output_type": "stream",
     "text": [
      "region boxi_0015 : dataset size 20273\n"
     ]
    },
    {
     "name": "stderr",
     "output_type": "stream",
     "text": [
      "100%|██████████| 500/500 [00:41<00:00, 12.04it/s]\n"
     ]
    },
    {
     "name": "stdout",
     "output_type": "stream",
     "text": [
      "{7, 8, 9, 10, 11, 12, 13, 14, 15, 16, 17, 18, 19, 20, 21, 22, 23, 24, 25, 26, 27, 28, 29, 30, 31, 32, 33, 34, 35, 36, 37, 38, 39, 40, 41, 42, 43, 44, 45, 46, 47, 48, 49, 50, 51, 52, 53, 54, 55, 56, 57}\n",
      "region boxi_0034 : dataset size 20273\n"
     ]
    },
    {
     "name": "stderr",
     "output_type": "stream",
     "text": [
      "100%|██████████| 500/500 [00:41<00:00, 12.07it/s]\n"
     ]
    },
    {
     "name": "stdout",
     "output_type": "stream",
     "text": [
      "{40, 42, 43, 44, 45, 46, 47, 48, 49, 50, 51, 52, 53, 54, 55, 56, 57, 58, 59, 60, 61, 62, 63, 64, 65, 66, 67, 68, 69, 70, 71, 72, 73, 74, 75, 76, 77, 78, 79, 80, 81, 82, 83, 84, 85, 86, 87, 88, 89, 90, 91, 92, 93, 94, 95, 96, 97, 98, 99, 100, 101, 102, 103, 104, 105, 106, 107, 108, 109, 110, 111, 112, 113, 114, 115, 116, 117, 118, 119, 120, 121, 122, 123, 124, 125, 126, 127, 128, 129, 130, 131, 132, 140, 141, 142, 145, 146, 149, 150, 152, 153, 154, 156, 157, 162, 163, 164, 174}\n",
      "region boxi_0076 : dataset size 20273\n"
     ]
    },
    {
     "name": "stderr",
     "output_type": "stream",
     "text": [
      "100%|██████████| 500/500 [00:40<00:00, 12.37it/s]\n"
     ]
    },
    {
     "name": "stdout",
     "output_type": "stream",
     "text": [
      "{0}\n"
     ]
    }
   ],
   "source": [
    "di = {\"region\": [], \"point\":[], \"total\": [], \"rain\": [], \"no_rain\": []}\n",
    "regions = ['boxi_0015', 'boxi_0034', 'boxi_0076']\n",
    "from operator import add\n",
    "# >>> list( map(add, list1, list2) )\n",
    "# [5, 7, 9]\n",
    "# reload data module for separate region\n",
    "for r in regions:\n",
    "  config['dataset']['regions'] = [r]\n",
    "  data = DataModule(config['dataset'], config['train'], 'train')\n",
    "  train_data = data.train_ds\n",
    "  print (\"region {} : dataset size {}\".format(r, train_data.__len__()))\n",
    "  di[\"region\"] = [r for _ in range(252*252)]\n",
    "  di[\"point\"] = range(252*252)\n",
    "\n",
    "  total, no_rain_cnt, rain_cnt = [0 for _ in range(252*252)], [0 for _ in range(252*252)], [0 for _ in range(252*252)]\n",
    "  # for i in tqdm(range(train_data.__len__())):\n",
    "  for i in tqdm(range(500)):\n",
    "    input_data, output_data, metadata = train_data.__getitem__(i)\n",
    "    # output_data size (1,32,252, 252)\n",
    "\n",
    "    # get first element from prediction sequence\n",
    "    output_data = output_data[0][0]\n",
    "    # print((~np.isnan(output_data)).flatten())\n",
    "    total = list(map (add, total, (~np.isnan(output_data)).flatten()))\n",
    "    no_rain_cnt = list(map (add, no_rain_cnt, list((output_data == 0).flatten())))\n",
    "    rain_cnt = list(map (add, rain_cnt, list((output_data == 1).flatten())))\n",
    "    \n",
    "  last = train_data.__len__()-1\n",
    "  input_data, output_data, metadata = train_data.__getitem__(last)\n",
    "  # output_data (1,32,252, 252)\n",
    "  # get second to last element from prediction sequence\n",
    "  output_data = output_data[0][1:]\n",
    "  for each_out in output_data:\n",
    "    total = list(map (add, total, (~np.isnan(output_data)).flatten()))\n",
    "    no_rain_cnt = list(map (add, no_rain_cnt, list((output_data == 0).flatten())))\n",
    "    rain_cnt = list(map (add, rain_cnt, list((output_data == 1).flatten())))\n",
    "\n",
    "\n",
    "  di['total'] = total\n",
    "  di['rain'] = rain_cnt\n",
    "  di['no_rain'] = no_rain_cnt\n",
    "  print( set(rain_cnt))\n",
    "  pointwise_df = pd.DataFrame(di)\n",
    "  pointwise_df.to_csv(\"./outputs/rain_pointwise_{}.csv\".format(r), index=True)"
   ]
  },
  {
   "cell_type": "code",
   "execution_count": 38,
   "metadata": {},
   "outputs": [
    {
     "name": "stdout",
     "output_type": "stream",
     "text": [
      "63504\n"
     ]
    }
   ],
   "source": [
    "print(len(total))"
   ]
  },
  {
   "cell_type": "code",
   "execution_count": 53,
   "metadata": {},
   "outputs": [],
   "source": [
    "\n",
    "for r in regions:\n",
    "  df = pd.read_csv(\"./outputs/rain_pointwise_{}.csv\".format(r))\n",
    "  # pointwise_df = df.groupby('point').aggregate('sum')\n",
    "  pointwise_df = get_ratios(df)\n",
    "\n",
    "  ## draw ratio pointwise\n",
    "  arr = np.array(pointwise_df['rain_ratio']).reshape(252, 252)\n",
    "  plt.imshow(arr)\n",
    "  # plt.show()\n",
    "  heatmap = plt.pcolor(arr)\n",
    "  plt.colorbar(heatmap)\n",
    "\n",
    "  plt.tight_layout(pad=0.5)\n",
    "  plt.savefig(\"./outputs/precipitation_ratio_pointwise_{}.pdf\".format(r))\n",
    "  plt.clf()  \n",
    "  plt.close()\n"
   ]
  },
  {
   "cell_type": "code",
   "execution_count": null,
   "metadata": {},
   "outputs": [],
   "source": []
  }
 ],
 "metadata": {
  "interpreter": {
   "hash": "854829af57ac260ea9bc16bd660b70b37aea647ae35a6a19498a1390136ba08c"
  },
  "kernelspec": {
   "display_name": "Python 3.8.13 ('w4cNew')",
   "language": "python",
   "name": "python3"
  },
  "language_info": {
   "codemirror_mode": {
    "name": "ipython",
    "version": 3
   },
   "file_extension": ".py",
   "mimetype": "text/x-python",
   "name": "python",
   "nbconvert_exporter": "python",
   "pygments_lexer": "ipython3",
   "version": "3.8.13"
  },
  "orig_nbformat": 4,
  "vscode": {
   "interpreter": {
    "hash": "f76992f5897432344b598604cf036c018febda7fa63bdcbc2cd72c05fba73e8f"
   }
  }
 },
 "nbformat": 4,
 "nbformat_minor": 2
}
